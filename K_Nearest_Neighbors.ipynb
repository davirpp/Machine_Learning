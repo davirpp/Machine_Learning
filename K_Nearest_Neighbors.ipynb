{
 "cells": [
  {
   "attachments": {},
   "cell_type": "markdown",
   "metadata": {
    "id": "0JFhnlk7at7A"
   },
   "source": [
    "# <font color=\"darkblue\"> Algoritmo k-NN </font>"
   ]
  },
  {
   "attachments": {},
   "cell_type": "markdown",
   "metadata": {
    "id": "_Txy0UzyawTX"
   },
   "source": [
    "**Objetivos:**\n",
    "\n",
    "\n",
    "*   Aplicar o algoritmo k-NN a um problema prático.\n",
    "\n"
   ]
  },
  {
   "cell_type": "markdown",
   "metadata": {
    "id": "keyryvT2bIae"
   },
   "source": [
    "**Descrição:**\n",
    "\n",
    "Implemente duas versões de um classificador usando o algoritmo k-NN que identifica dígitos escritos à mão a partir de um conjunto de imagens. Utilize o dataset <i> Digits </i> da biblioteca Scikit-Learn. Na primeira versão, você implementará o algoritmo de classificação do zero, enquanto que na segunda você deverá utilizar a biblioteca Scikit-Learn para realizar a classificação. Ao final, compare as acurácias obtidas e o tempo de execução de cada versão."
   ]
  },
  {
   "cell_type": "markdown",
   "metadata": {
    "id": "wWnD-OFybVw1"
   },
   "source": [
    "# <font color=\"darkblue\"> Solução </font>"
   ]
  },
  {
   "cell_type": "markdown",
   "metadata": {
    "id": "ioVFway7cWiw"
   },
   "source": [
    "### Descrição do Dataset"
   ]
  },
  {
   "cell_type": "code",
   "execution_count": 1,
   "metadata": {
    "colab": {
     "base_uri": "https://localhost:8080/"
    },
    "executionInfo": {
     "elapsed": 426,
     "status": "ok",
     "timestamp": 1678213583439,
     "user": {
      "displayName": "DAVI RIBEIRO",
      "userId": "10599100591171196632"
     },
     "user_tz": 180
    },
    "id": "Lh0fUl5BbR5J",
    "outputId": "1cb20d3e-fb38-4e0e-ca46-edd053bce7f1",
    "tags": []
   },
   "outputs": [
    {
     "name": "stdout",
     "output_type": "stream",
     "text": [
      ".. _digits_dataset:\n",
      "\n",
      "Optical recognition of handwritten digits dataset\n",
      "--------------------------------------------------\n",
      "\n",
      "**Data Set Characteristics:**\n",
      "\n",
      "    :Number of Instances: 1797\n",
      "    :Number of Attributes: 64\n",
      "    :Attribute Information: 8x8 image of integer pixels in the range 0..16.\n",
      "    :Missing Attribute Values: None\n",
      "    :Creator: E. Alpaydin (alpaydin '@' boun.edu.tr)\n",
      "    :Date: July; 1998\n",
      "\n",
      "This is a copy of the test set of the UCI ML hand-written digits datasets\n",
      "https://archive.ics.uci.edu/ml/datasets/Optical+Recognition+of+Handwritten+Digits\n",
      "\n",
      "The data set contains images of hand-written digits: 10 classes where\n",
      "each class refers to a digit.\n",
      "\n",
      "Preprocessing programs made available by NIST were used to extract\n",
      "normalized bitmaps of handwritten digits from a preprinted form. From a\n",
      "total of 43 people, 30 contributed to the training set and different 13\n",
      "to the test set. 32x32 bitmaps are divided into nonoverlapping blocks of\n",
      "4x4 and the number of on pixels are counted in each block. This generates\n",
      "an input matrix of 8x8 where each element is an integer in the range\n",
      "0..16. This reduces dimensionality and gives invariance to small\n",
      "distortions.\n",
      "\n",
      "For info on NIST preprocessing routines, see M. D. Garris, J. L. Blue, G.\n",
      "T. Candela, D. L. Dimmick, J. Geist, P. J. Grother, S. A. Janet, and C.\n",
      "L. Wilson, NIST Form-Based Handprint Recognition System, NISTIR 5469,\n",
      "1994.\n",
      "\n",
      ".. topic:: References\n",
      "\n",
      "  - C. Kaynak (1995) Methods of Combining Multiple Classifiers and Their\n",
      "    Applications to Handwritten Digit Recognition, MSc Thesis, Institute of\n",
      "    Graduate Studies in Science and Engineering, Bogazici University.\n",
      "  - E. Alpaydin, C. Kaynak (1998) Cascading Classifiers, Kybernetika.\n",
      "  - Ken Tang and Ponnuthurai N. Suganthan and Xi Yao and A. Kai Qin.\n",
      "    Linear dimensionalityreduction using relevance weighted LDA. School of\n",
      "    Electrical and Electronic Engineering Nanyang Technological University.\n",
      "    2005.\n",
      "  - Claudio Gentile. A New Approximate Maximal Margin Classification\n",
      "    Algorithm. NIPS. 2000.\n",
      "\n",
      "\n"
     ]
    }
   ],
   "source": [
    "import matplotlib.pyplot as plt\n",
    "import numpy as np\n",
    "import statistics as st\n",
    "import time\n",
    "from sklearn.datasets import load_digits\n",
    "from sklearn.model_selection import train_test_split\n",
    "from sklearn.neighbors import KNeighborsClassifier\n",
    "\n",
    "digits = load_digits()\n",
    "\n",
    "# Conhecendo dataset \n",
    "print(digits.DESCR + \"\\n\")"
   ]
  },
  {
   "cell_type": "markdown",
   "metadata": {
    "id": "_JtDQu4Bcp1X"
   },
   "source": [
    "### Exibição das imagens"
   ]
  },
  {
   "cell_type": "code",
   "execution_count": 2,
   "metadata": {
    "colab": {
     "base_uri": "https://localhost:8080/",
     "height": 153
    },
    "executionInfo": {
     "elapsed": 466,
     "status": "ok",
     "timestamp": 1678208464474,
     "user": {
      "displayName": "DAVI RIBEIRO",
      "userId": "10599100591171196632"
     },
     "user_tz": 180
    },
    "id": "5_8VQTOfb3c9",
    "outputId": "53d27975-15ed-4160-9346-29fd7447df6f",
    "tags": []
   },
   "outputs": [
    {
     "data": {
      "image/png": "[encoded data removed]",
      "text/plain": [
       "<Figure size 500x200 with 10 Axes>"
      ]
     },
     "metadata": {},
     "output_type": "display_data"
    }
   ],
   "source": [
    "figure, axes = plt.subplots(nrows=2, ncols=5, figsize=(5, 2))\n",
    "\n",
    "for item in zip(axes.ravel(), digits.images, digits.target):\n",
    "    axes, image, target = item\n",
    "    axes.imshow(image, cmap=plt.cm.gray_r)\n",
    "    axes.set_xticks([]) \n",
    "    axes.set_yticks([])  \n",
    "    axes.set_title(target)\n",
    "    \n",
    "# usado para um numero nao ficar em cima do outro        \n",
    "plt.tight_layout() "
   ]
  },
  {
   "cell_type": "markdown",
   "metadata": {
    "id": "8d8JkaJKcv9O"
   },
   "source": [
    "### Implementação do classificador do zero"
   ]
  },
  {
   "cell_type": "code",
   "execution_count": 3,
   "metadata": {
    "executionInfo": {
     "elapsed": 499,
     "status": "ok",
     "timestamp": 1678215015472,
     "user": {
      "displayName": "DAVI RIBEIRO",
      "userId": "10599100591171196632"
     },
     "user_tz": 180
    },
    "id": "4uvAVl5Cc6nc",
    "tags": []
   },
   "outputs": [],
   "source": [
    "def minkowski(vector_a: np.array, vector_b: np.array, p: int):\n",
    "    \"\"\"\n",
    "    Calculate the Minkowski distance between two vectors.\n",
    "\n",
    "    Parameters\n",
    "    ----------\n",
    "        vector_a : numpy.ndarray\n",
    "            A vector in the form of a numpy array.\n",
    "        vector_b : numpy.ndarray\n",
    "            A vector in the form of a numpy array.\n",
    "        p : int\n",
    "            The order of the Minkowski distance.\n",
    "\n",
    "    Returns\n",
    "    -------\n",
    "        distance : numpy.ndarray\n",
    "            An array containing the Minkowski distance between the \n",
    "            vectors.\n",
    "    \"\"\"\n",
    "    ax = 1 if len(vector_a) > 1 else 0\n",
    "    return (np.sum(abs(vector_a - vector_b)**p, axis=ax))**(1/p)\n",
    "\n",
    "\n",
    "class KNN:\n",
    "    def __init__(self, data, target):\n",
    "        self.data = data\n",
    "        self.target = target\n",
    "\n",
    "    def predict(self, k: int, p: int, vector_test: np.array):\n",
    "        \"\"\"\n",
    "        Predicts the target value for a given test data point.\n",
    "\n",
    "        Parameters\n",
    "        ----------\n",
    "            k : int\n",
    "                Number of neighbors to consider for the prediction.\n",
    "            p : int\n",
    "                Order of the Minkowski distance used to calculate the \n",
    "                nearest neighbors.\n",
    "            vector_test : numpy.ndarray\n",
    "                A vector representing the test data point.\n",
    "\n",
    "        Returns\n",
    "        -------\n",
    "            predict : int\n",
    "                The predicted target value for the test data point.\n",
    "        \"\"\"\n",
    "        all_dist = minkowski(self.data, vector_test, p)\n",
    "        indexes = np.argsort(all_dist)[:k]\n",
    "        targets = self.target[indexes]\n",
    "        return st.mode(targets)"
   ]
  },
  {
   "cell_type": "code",
   "execution_count": 4,
   "metadata": {},
   "outputs": [],
   "source": [
    "def get_accuracy(model: KNN, data: np.array, target: np.array, k: int, p: int):\n",
    "    \"\"\"\n",
    "    Calculate the accuracy of a k-nearest neighbors (KNN) model on a \n",
    "        given dataset.\n",
    "\n",
    "    Parameters\n",
    "    ----------\n",
    "        model : KNN\n",
    "            An instance of a KNN model.\n",
    "        data : numpy.ndarray\n",
    "            A vector object containing the data points to be evaluated.\n",
    "        target : numpy.ndarray\n",
    "            A 1D array-like object containing the true labels for each \n",
    "            data point.\n",
    "        k : int\n",
    "            Number of neighbors to consider for the prediction.\n",
    "        p : int\n",
    "            Order of the Minkowski distance used to calculate the \n",
    "            nearest neighbors\n",
    "\n",
    "    Returns\n",
    "    -------\n",
    "        accuracy : float\n",
    "            A float indicating the proportion of correctly predicted \n",
    "            labels to total predictions.\n",
    "    \"\"\"\n",
    "    predictions = [model.predict(k, p, vector) for vector in data]\n",
    "    return np.mean(predictions == target)  "
   ]
  },
  {
   "cell_type": "code",
   "execution_count": 5,
   "metadata": {},
   "outputs": [],
   "source": [
    "# Splitting the data for both implementations to avoid any problem\n",
    "X_train, X_test, y_train, y_test = train_test_split(digits.data, \n",
    "                                                    digits.target, \n",
    "                                                    test_size=0.3, \n",
    "                                                    random_state=42)"
   ]
  },
  {
   "cell_type": "code",
   "execution_count": 6,
   "metadata": {},
   "outputs": [
    {
     "name": "stdout",
     "output_type": "stream",
     "text": [
      "Runtime: 0.11967 seconds\n",
      "KNN accuracy on test: 99.074%\n"
     ]
    }
   ],
   "source": [
    "start_time = time.time()\n",
    "\n",
    "model = KNN(X_train, y_train)\n",
    "acc = get_accuracy(model, X_test, y_test, k=5, p=2)\n",
    "\n",
    "print(f\"Runtime: {time.time() - start_time:.5f} seconds\")\n",
    "print(f\"KNN accuracy on test: {acc*100:.3f}%\")"
   ]
  },
  {
   "cell_type": "code",
   "execution_count": 7,
   "metadata": {},
   "outputs": [
    {
     "name": "stdout",
     "output_type": "stream",
     "text": [
      "KNN accuracy on all dataset: 99.054%\n"
     ]
    }
   ],
   "source": [
    "acc_all = get_accuracy(model, digits.data, digits.target, k=5, p=2)\n",
    "print(f\"KNN accuracy on all dataset: {acc_all*100:.3f}%\")"
   ]
  },
  {
   "cell_type": "markdown",
   "metadata": {
    "id": "bqD-GBwAAX8p"
   },
   "source": [
    "### Implementação utilizando o scikit-learn"
   ]
  },
  {
   "cell_type": "code",
   "execution_count": 8,
   "metadata": {},
   "outputs": [
    {
     "name": "stdout",
     "output_type": "stream",
     "text": [
      "Runtime: 0.06980 seconds\n",
      "KNN accuracy on test using sklearn: 99.259%\n"
     ]
    }
   ],
   "source": [
    "start_time = time.time()\n",
    "\n",
    "model_sk = KNeighborsClassifier(n_neighbors=5, p=2)\n",
    "model_sk.fit(X_train, y_train)\n",
    "acc_sk = model_sk.score(X_test, y_test)\n",
    "\n",
    "print(f\"Runtime: {time.time() - start_time:.5f} seconds\")\n",
    "print(f\"KNN accuracy on test using sklearn: {acc_sk*100:.3f}%\")"
   ]
  },
  {
   "cell_type": "code",
   "execution_count": 9,
   "metadata": {
    "tags": []
   },
   "outputs": [
    {
     "name": "stdout",
     "output_type": "stream",
     "text": [
      "KNN accuracy on all dataset using sklearn: 99.054%\n"
     ]
    }
   ],
   "source": [
    "acc_sk = model_sk.score(digits.data, digits.target)\n",
    "print(f\"KNN accuracy on all dataset using sklearn: {acc_sk*100:.3f}%\")"
   ]
  },
  {
   "attachments": {},
   "cell_type": "markdown",
   "metadata": {},
   "source": [
    "### Conclusão\n",
    "\n",
    "Falando sobre o tempo de execução, o do Scikit-Learn é quase 2x mais rápido(aprox. 1.7x), visto que é feito com inúmeras otimizações, isso é esperado, porém o meu modelo não foi lento. Falando sobre a acurácia, foi idêntica quando aplicada ao dataset inteiro, isso significa que meu modelo teve uma boa eficiência comparado ao do sk-learn - lembrando que os dados de treino e teste foram os mesmo para meu modelo e para o do Scikit-Learn."
   ]
  }
 ],
 "metadata": {
  "colab": {
   "provenance": []
  },
  "kernelspec": {
   "display_name": "AI_Tools",
   "language": "python",
   "name": "ai_tools"
  },
  "language_info": {
   "codemirror_mode": {
    "name": "ipython",
    "version": 3
   },
   "file_extension": ".py",
   "mimetype": "text/x-python",
   "name": "python",
   "nbconvert_exporter": "python",
   "pygments_lexer": "ipython3",
   "version": "3.11.1"
  }
 },
 "nbformat": 4,
 "nbformat_minor": 4
}
